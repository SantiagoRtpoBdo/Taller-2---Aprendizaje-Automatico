{
  "nbformat": 4,
  "nbformat_minor": 0,
  "metadata": {
    "colab": {
      "provenance": []
    },
    "kernelspec": {
      "name": "python3",
      "display_name": "Python 3"
    },
    "language_info": {
      "name": "python"
    }
  },
  "cells": [
    {
      "cell_type": "markdown",
      "source": [
        "<h3>1. Realice la búsqueda de un conjunto de datos de mínimo 1000 registros, donde pueda obtener información correspondiente al sector asignado y al cual se le pueda aplicar el método de RBNN.\n",
        "Adjunte enlace de acceso al dataset (enlace de la página de donde obtuvo los datos)<h3/>"
      ],
      "metadata": {
        "id": "WngN_CyhCveg"
      }
    },
    {
      "cell_type": "markdown",
      "source": [
        "El dataset trata de Ventas Globales de videojuegos y fue sacados de:\n",
        "\n",
        "https://github.com/SantiagoRtpoBdo/Taller-2---Aprendizaje-Automatico/blob/main/Video_Games.csv"
      ],
      "metadata": {
        "id": "NOWQPxKPG8Mt"
      }
    },
    {
      "cell_type": "markdown",
      "source": [
        "<h3>2. Realice la lectura del banco de datos e imprima las categorías que tiene y cuales son las variables dependientes e independientes. <h3/>"
      ],
      "metadata": {
        "id": "aprkwn62C2si"
      }
    },
    {
      "cell_type": "code",
      "execution_count": 86,
      "metadata": {
        "colab": {
          "base_uri": "https://localhost:8080/",
          "height": 441
        },
        "id": "9dhEUtIJZUC-",
        "outputId": "ffd1e6a0-d45f-4a71-cab7-347b43c5d6eb"
      },
      "outputs": [
        {
          "output_type": "execute_result",
          "data": {
            "text/plain": [
              "                                   Name Platform  Year_of_Release     Genre  \\\n",
              "0                            Wii Sports      Wii           2006.0    Sports   \n",
              "1                        Mario Kart Wii      Wii           2008.0    Racing   \n",
              "2                     Wii Sports Resort      Wii           2009.0    Sports   \n",
              "3                 New Super Mario Bros.       DS           2006.0  Platform   \n",
              "4                              Wii Play      Wii           2006.0      Misc   \n",
              "...                                 ...      ...              ...       ...   \n",
              "6820         E.T. The Extra-Terrestrial      GBA           2001.0    Action   \n",
              "6821     Mortal Kombat: Deadly Alliance      GBA           2002.0  Fighting   \n",
              "6822  Metal Gear Solid V: Ground Zeroes       PC           2014.0    Action   \n",
              "6823                             Breach       PC           2011.0   Shooter   \n",
              "6824            STORM: Frontline Nation       PC           2011.0  Strategy   \n",
              "\n",
              "                         Publisher  NA_Sales  EU_Sales  JP_Sales  Other_Sales  \\\n",
              "0                         Nintendo     41.36     28.96      3.77         8.45   \n",
              "1                         Nintendo     15.68     12.76      3.79         3.29   \n",
              "2                         Nintendo     15.61     10.93      3.28         2.95   \n",
              "3                         Nintendo     11.28      9.14      6.50         2.88   \n",
              "4                         Nintendo     13.96      9.18      2.93         2.84   \n",
              "...                            ...       ...       ...       ...          ...   \n",
              "6820                      NewKidCo      0.01      0.00      0.00         0.00   \n",
              "6821                  Midway Games      0.01      0.00      0.00         0.00   \n",
              "6822  Konami Digital Entertainment      0.00      0.01      0.00         0.00   \n",
              "6823                     Destineer      0.01      0.00      0.00         0.00   \n",
              "6824                       Unknown      0.00      0.01      0.00         0.00   \n",
              "\n",
              "      Global_Sales  Critic_Score  Critic_Count  User_Score  User_Count  \\\n",
              "0            82.53          76.0          51.0         8.0       322.0   \n",
              "1            35.52          82.0          73.0         8.3       709.0   \n",
              "2            32.77          80.0          73.0         8.0       192.0   \n",
              "3            29.80          89.0          65.0         8.5       431.0   \n",
              "4            28.92          58.0          41.0         6.6       129.0   \n",
              "...            ...           ...           ...         ...         ...   \n",
              "6820          0.01          46.0           4.0         2.4        21.0   \n",
              "6821          0.01          81.0          12.0         8.8         9.0   \n",
              "6822          0.01          80.0          20.0         7.6       412.0   \n",
              "6823          0.01          61.0          12.0         5.8        43.0   \n",
              "6824          0.01          60.0          12.0         7.2        13.0   \n",
              "\n",
              "               Developer Rating  \n",
              "0               Nintendo      E  \n",
              "1               Nintendo      E  \n",
              "2               Nintendo      E  \n",
              "3               Nintendo      E  \n",
              "4               Nintendo      E  \n",
              "...                  ...    ...  \n",
              "6820       Fluid Studios      E  \n",
              "6821     Criterion Games      M  \n",
              "6822  Kojima Productions      M  \n",
              "6823        Atomic Games      T  \n",
              "6824              SimBin   E10+  \n",
              "\n",
              "[6825 rows x 16 columns]"
            ],
            "text/html": [
              "\n",
              "  <div id=\"df-2ac2c89e-ec7e-4b30-8ed2-88210ece4d43\" class=\"colab-df-container\">\n",
              "    <div>\n",
              "<style scoped>\n",
              "    .dataframe tbody tr th:only-of-type {\n",
              "        vertical-align: middle;\n",
              "    }\n",
              "\n",
              "    .dataframe tbody tr th {\n",
              "        vertical-align: top;\n",
              "    }\n",
              "\n",
              "    .dataframe thead th {\n",
              "        text-align: right;\n",
              "    }\n",
              "</style>\n",
              "<table border=\"1\" class=\"dataframe\">\n",
              "  <thead>\n",
              "    <tr style=\"text-align: right;\">\n",
              "      <th></th>\n",
              "      <th>Name</th>\n",
              "      <th>Platform</th>\n",
              "      <th>Year_of_Release</th>\n",
              "      <th>Genre</th>\n",
              "      <th>Publisher</th>\n",
              "      <th>NA_Sales</th>\n",
              "      <th>EU_Sales</th>\n",
              "      <th>JP_Sales</th>\n",
              "      <th>Other_Sales</th>\n",
              "      <th>Global_Sales</th>\n",
              "      <th>Critic_Score</th>\n",
              "      <th>Critic_Count</th>\n",
              "      <th>User_Score</th>\n",
              "      <th>User_Count</th>\n",
              "      <th>Developer</th>\n",
              "      <th>Rating</th>\n",
              "    </tr>\n",
              "  </thead>\n",
              "  <tbody>\n",
              "    <tr>\n",
              "      <th>0</th>\n",
              "      <td>Wii Sports</td>\n",
              "      <td>Wii</td>\n",
              "      <td>2006.0</td>\n",
              "      <td>Sports</td>\n",
              "      <td>Nintendo</td>\n",
              "      <td>41.36</td>\n",
              "      <td>28.96</td>\n",
              "      <td>3.77</td>\n",
              "      <td>8.45</td>\n",
              "      <td>82.53</td>\n",
              "      <td>76.0</td>\n",
              "      <td>51.0</td>\n",
              "      <td>8.0</td>\n",
              "      <td>322.0</td>\n",
              "      <td>Nintendo</td>\n",
              "      <td>E</td>\n",
              "    </tr>\n",
              "    <tr>\n",
              "      <th>1</th>\n",
              "      <td>Mario Kart Wii</td>\n",
              "      <td>Wii</td>\n",
              "      <td>2008.0</td>\n",
              "      <td>Racing</td>\n",
              "      <td>Nintendo</td>\n",
              "      <td>15.68</td>\n",
              "      <td>12.76</td>\n",
              "      <td>3.79</td>\n",
              "      <td>3.29</td>\n",
              "      <td>35.52</td>\n",
              "      <td>82.0</td>\n",
              "      <td>73.0</td>\n",
              "      <td>8.3</td>\n",
              "      <td>709.0</td>\n",
              "      <td>Nintendo</td>\n",
              "      <td>E</td>\n",
              "    </tr>\n",
              "    <tr>\n",
              "      <th>2</th>\n",
              "      <td>Wii Sports Resort</td>\n",
              "      <td>Wii</td>\n",
              "      <td>2009.0</td>\n",
              "      <td>Sports</td>\n",
              "      <td>Nintendo</td>\n",
              "      <td>15.61</td>\n",
              "      <td>10.93</td>\n",
              "      <td>3.28</td>\n",
              "      <td>2.95</td>\n",
              "      <td>32.77</td>\n",
              "      <td>80.0</td>\n",
              "      <td>73.0</td>\n",
              "      <td>8.0</td>\n",
              "      <td>192.0</td>\n",
              "      <td>Nintendo</td>\n",
              "      <td>E</td>\n",
              "    </tr>\n",
              "    <tr>\n",
              "      <th>3</th>\n",
              "      <td>New Super Mario Bros.</td>\n",
              "      <td>DS</td>\n",
              "      <td>2006.0</td>\n",
              "      <td>Platform</td>\n",
              "      <td>Nintendo</td>\n",
              "      <td>11.28</td>\n",
              "      <td>9.14</td>\n",
              "      <td>6.50</td>\n",
              "      <td>2.88</td>\n",
              "      <td>29.80</td>\n",
              "      <td>89.0</td>\n",
              "      <td>65.0</td>\n",
              "      <td>8.5</td>\n",
              "      <td>431.0</td>\n",
              "      <td>Nintendo</td>\n",
              "      <td>E</td>\n",
              "    </tr>\n",
              "    <tr>\n",
              "      <th>4</th>\n",
              "      <td>Wii Play</td>\n",
              "      <td>Wii</td>\n",
              "      <td>2006.0</td>\n",
              "      <td>Misc</td>\n",
              "      <td>Nintendo</td>\n",
              "      <td>13.96</td>\n",
              "      <td>9.18</td>\n",
              "      <td>2.93</td>\n",
              "      <td>2.84</td>\n",
              "      <td>28.92</td>\n",
              "      <td>58.0</td>\n",
              "      <td>41.0</td>\n",
              "      <td>6.6</td>\n",
              "      <td>129.0</td>\n",
              "      <td>Nintendo</td>\n",
              "      <td>E</td>\n",
              "    </tr>\n",
              "    <tr>\n",
              "      <th>...</th>\n",
              "      <td>...</td>\n",
              "      <td>...</td>\n",
              "      <td>...</td>\n",
              "      <td>...</td>\n",
              "      <td>...</td>\n",
              "      <td>...</td>\n",
              "      <td>...</td>\n",
              "      <td>...</td>\n",
              "      <td>...</td>\n",
              "      <td>...</td>\n",
              "      <td>...</td>\n",
              "      <td>...</td>\n",
              "      <td>...</td>\n",
              "      <td>...</td>\n",
              "      <td>...</td>\n",
              "      <td>...</td>\n",
              "    </tr>\n",
              "    <tr>\n",
              "      <th>6820</th>\n",
              "      <td>E.T. The Extra-Terrestrial</td>\n",
              "      <td>GBA</td>\n",
              "      <td>2001.0</td>\n",
              "      <td>Action</td>\n",
              "      <td>NewKidCo</td>\n",
              "      <td>0.01</td>\n",
              "      <td>0.00</td>\n",
              "      <td>0.00</td>\n",
              "      <td>0.00</td>\n",
              "      <td>0.01</td>\n",
              "      <td>46.0</td>\n",
              "      <td>4.0</td>\n",
              "      <td>2.4</td>\n",
              "      <td>21.0</td>\n",
              "      <td>Fluid Studios</td>\n",
              "      <td>E</td>\n",
              "    </tr>\n",
              "    <tr>\n",
              "      <th>6821</th>\n",
              "      <td>Mortal Kombat: Deadly Alliance</td>\n",
              "      <td>GBA</td>\n",
              "      <td>2002.0</td>\n",
              "      <td>Fighting</td>\n",
              "      <td>Midway Games</td>\n",
              "      <td>0.01</td>\n",
              "      <td>0.00</td>\n",
              "      <td>0.00</td>\n",
              "      <td>0.00</td>\n",
              "      <td>0.01</td>\n",
              "      <td>81.0</td>\n",
              "      <td>12.0</td>\n",
              "      <td>8.8</td>\n",
              "      <td>9.0</td>\n",
              "      <td>Criterion Games</td>\n",
              "      <td>M</td>\n",
              "    </tr>\n",
              "    <tr>\n",
              "      <th>6822</th>\n",
              "      <td>Metal Gear Solid V: Ground Zeroes</td>\n",
              "      <td>PC</td>\n",
              "      <td>2014.0</td>\n",
              "      <td>Action</td>\n",
              "      <td>Konami Digital Entertainment</td>\n",
              "      <td>0.00</td>\n",
              "      <td>0.01</td>\n",
              "      <td>0.00</td>\n",
              "      <td>0.00</td>\n",
              "      <td>0.01</td>\n",
              "      <td>80.0</td>\n",
              "      <td>20.0</td>\n",
              "      <td>7.6</td>\n",
              "      <td>412.0</td>\n",
              "      <td>Kojima Productions</td>\n",
              "      <td>M</td>\n",
              "    </tr>\n",
              "    <tr>\n",
              "      <th>6823</th>\n",
              "      <td>Breach</td>\n",
              "      <td>PC</td>\n",
              "      <td>2011.0</td>\n",
              "      <td>Shooter</td>\n",
              "      <td>Destineer</td>\n",
              "      <td>0.01</td>\n",
              "      <td>0.00</td>\n",
              "      <td>0.00</td>\n",
              "      <td>0.00</td>\n",
              "      <td>0.01</td>\n",
              "      <td>61.0</td>\n",
              "      <td>12.0</td>\n",
              "      <td>5.8</td>\n",
              "      <td>43.0</td>\n",
              "      <td>Atomic Games</td>\n",
              "      <td>T</td>\n",
              "    </tr>\n",
              "    <tr>\n",
              "      <th>6824</th>\n",
              "      <td>STORM: Frontline Nation</td>\n",
              "      <td>PC</td>\n",
              "      <td>2011.0</td>\n",
              "      <td>Strategy</td>\n",
              "      <td>Unknown</td>\n",
              "      <td>0.00</td>\n",
              "      <td>0.01</td>\n",
              "      <td>0.00</td>\n",
              "      <td>0.00</td>\n",
              "      <td>0.01</td>\n",
              "      <td>60.0</td>\n",
              "      <td>12.0</td>\n",
              "      <td>7.2</td>\n",
              "      <td>13.0</td>\n",
              "      <td>SimBin</td>\n",
              "      <td>E10+</td>\n",
              "    </tr>\n",
              "  </tbody>\n",
              "</table>\n",
              "<p>6825 rows × 16 columns</p>\n",
              "</div>\n",
              "    <div class=\"colab-df-buttons\">\n",
              "\n",
              "  <div class=\"colab-df-container\">\n",
              "    <button class=\"colab-df-convert\" onclick=\"convertToInteractive('df-2ac2c89e-ec7e-4b30-8ed2-88210ece4d43')\"\n",
              "            title=\"Convert this dataframe to an interactive table.\"\n",
              "            style=\"display:none;\">\n",
              "\n",
              "  <svg xmlns=\"http://www.w3.org/2000/svg\" height=\"24px\" viewBox=\"0 -960 960 960\">\n",
              "    <path d=\"M120-120v-720h720v720H120Zm60-500h600v-160H180v160Zm220 220h160v-160H400v160Zm0 220h160v-160H400v160ZM180-400h160v-160H180v160Zm440 0h160v-160H620v160ZM180-180h160v-160H180v160Zm440 0h160v-160H620v160Z\"/>\n",
              "  </svg>\n",
              "    </button>\n",
              "\n",
              "  <style>\n",
              "    .colab-df-container {\n",
              "      display:flex;\n",
              "      gap: 12px;\n",
              "    }\n",
              "\n",
              "    .colab-df-convert {\n",
              "      background-color: #E8F0FE;\n",
              "      border: none;\n",
              "      border-radius: 50%;\n",
              "      cursor: pointer;\n",
              "      display: none;\n",
              "      fill: #1967D2;\n",
              "      height: 32px;\n",
              "      padding: 0 0 0 0;\n",
              "      width: 32px;\n",
              "    }\n",
              "\n",
              "    .colab-df-convert:hover {\n",
              "      background-color: #E2EBFA;\n",
              "      box-shadow: 0px 1px 2px rgba(60, 64, 67, 0.3), 0px 1px 3px 1px rgba(60, 64, 67, 0.15);\n",
              "      fill: #174EA6;\n",
              "    }\n",
              "\n",
              "    .colab-df-buttons div {\n",
              "      margin-bottom: 4px;\n",
              "    }\n",
              "\n",
              "    [theme=dark] .colab-df-convert {\n",
              "      background-color: #3B4455;\n",
              "      fill: #D2E3FC;\n",
              "    }\n",
              "\n",
              "    [theme=dark] .colab-df-convert:hover {\n",
              "      background-color: #434B5C;\n",
              "      box-shadow: 0px 1px 3px 1px rgba(0, 0, 0, 0.15);\n",
              "      filter: drop-shadow(0px 1px 2px rgba(0, 0, 0, 0.3));\n",
              "      fill: #FFFFFF;\n",
              "    }\n",
              "  </style>\n",
              "\n",
              "    <script>\n",
              "      const buttonEl =\n",
              "        document.querySelector('#df-2ac2c89e-ec7e-4b30-8ed2-88210ece4d43 button.colab-df-convert');\n",
              "      buttonEl.style.display =\n",
              "        google.colab.kernel.accessAllowed ? 'block' : 'none';\n",
              "\n",
              "      async function convertToInteractive(key) {\n",
              "        const element = document.querySelector('#df-2ac2c89e-ec7e-4b30-8ed2-88210ece4d43');\n",
              "        const dataTable =\n",
              "          await google.colab.kernel.invokeFunction('convertToInteractive',\n",
              "                                                    [key], {});\n",
              "        if (!dataTable) return;\n",
              "\n",
              "        const docLinkHtml = 'Like what you see? Visit the ' +\n",
              "          '<a target=\"_blank\" href=https://colab.research.google.com/notebooks/data_table.ipynb>data table notebook</a>'\n",
              "          + ' to learn more about interactive tables.';\n",
              "        element.innerHTML = '';\n",
              "        dataTable['output_type'] = 'display_data';\n",
              "        await google.colab.output.renderOutput(dataTable, element);\n",
              "        const docLink = document.createElement('div');\n",
              "        docLink.innerHTML = docLinkHtml;\n",
              "        element.appendChild(docLink);\n",
              "      }\n",
              "    </script>\n",
              "  </div>\n",
              "\n",
              "\n",
              "<div id=\"df-b881d29a-08c0-47be-b785-2fc6eef9e8b5\">\n",
              "  <button class=\"colab-df-quickchart\" onclick=\"quickchart('df-b881d29a-08c0-47be-b785-2fc6eef9e8b5')\"\n",
              "            title=\"Suggest charts.\"\n",
              "            style=\"display:none;\">\n",
              "\n",
              "<svg xmlns=\"http://www.w3.org/2000/svg\" height=\"24px\"viewBox=\"0 0 24 24\"\n",
              "     width=\"24px\">\n",
              "    <g>\n",
              "        <path d=\"M19 3H5c-1.1 0-2 .9-2 2v14c0 1.1.9 2 2 2h14c1.1 0 2-.9 2-2V5c0-1.1-.9-2-2-2zM9 17H7v-7h2v7zm4 0h-2V7h2v10zm4 0h-2v-4h2v4z\"/>\n",
              "    </g>\n",
              "</svg>\n",
              "  </button>\n",
              "\n",
              "<style>\n",
              "  .colab-df-quickchart {\n",
              "    background-color: #E8F0FE;\n",
              "    border: none;\n",
              "    border-radius: 50%;\n",
              "    cursor: pointer;\n",
              "    display: none;\n",
              "    fill: #1967D2;\n",
              "    height: 32px;\n",
              "    padding: 0 0 0 0;\n",
              "    width: 32px;\n",
              "  }\n",
              "\n",
              "  .colab-df-quickchart:hover {\n",
              "    background-color: #E2EBFA;\n",
              "    box-shadow: 0px 1px 2px rgba(60, 64, 67, 0.3), 0px 1px 3px 1px rgba(60, 64, 67, 0.15);\n",
              "    fill: #174EA6;\n",
              "  }\n",
              "\n",
              "  [theme=dark] .colab-df-quickchart {\n",
              "    background-color: #3B4455;\n",
              "    fill: #D2E3FC;\n",
              "  }\n",
              "\n",
              "  [theme=dark] .colab-df-quickchart:hover {\n",
              "    background-color: #434B5C;\n",
              "    box-shadow: 0px 1px 3px 1px rgba(0, 0, 0, 0.15);\n",
              "    filter: drop-shadow(0px 1px 2px rgba(0, 0, 0, 0.3));\n",
              "    fill: #FFFFFF;\n",
              "  }\n",
              "</style>\n",
              "\n",
              "  <script>\n",
              "    async function quickchart(key) {\n",
              "      const charts = await google.colab.kernel.invokeFunction(\n",
              "          'suggestCharts', [key], {});\n",
              "    }\n",
              "    (() => {\n",
              "      let quickchartButtonEl =\n",
              "        document.querySelector('#df-b881d29a-08c0-47be-b785-2fc6eef9e8b5 button');\n",
              "      quickchartButtonEl.style.display =\n",
              "        google.colab.kernel.accessAllowed ? 'block' : 'none';\n",
              "    })();\n",
              "  </script>\n",
              "</div>\n",
              "    </div>\n",
              "  </div>\n"
            ]
          },
          "metadata": {},
          "execution_count": 86
        }
      ],
      "source": [
        "import pandas as pd\n",
        "\n",
        "df = pd.read_csv('Video_Games.csv')\n",
        "\n",
        "df"
      ]
    },
    {
      "cell_type": "code",
      "source": [
        "import pandas as pd\n",
        "\n",
        "# Imprimir las categorías (columnas) en el conjunto de datos\n",
        "categorias = df.columns.tolist()\n",
        "print(\"Categorías en el conjunto de datos:\")\n",
        "for categoria in categorias:\n",
        "    print(categoria)\n",
        "\n",
        "# Identificar las variables independientes y dependientes\n",
        "\n",
        "# Variable objetivo (dependiente) en análisis de ventas y pronósticos en la industria de los videojuegos\n",
        "variable_dependiente = 'Global_Sales'  # Esto dependerá de tu objetivo específico\n",
        "\n",
        "# Variables independientes (características)\n",
        "# género - plataforma - puntuaciones de la crítica - puntuaciones de los usuarios - año de lanzamiento - clasificación\n",
        "variables_independientes = [col for col in categorias if col != variable_dependiente]\n",
        "\n",
        "print(\"\\nVariable dependiente:\")\n",
        "print(variable_dependiente)\n",
        "\n",
        "print(\"\\nVariables independientes:\")\n",
        "print(variables_independientes)\n"
      ],
      "metadata": {
        "colab": {
          "base_uri": "https://localhost:8080/"
        },
        "id": "ak3SIOhJRrmg",
        "outputId": "288368ee-d7c6-4ebe-fcbf-e32f48f5bad4"
      },
      "execution_count": 87,
      "outputs": [
        {
          "output_type": "stream",
          "name": "stdout",
          "text": [
            "Categorías en el conjunto de datos:\n",
            "Name\n",
            "Platform\n",
            "Year_of_Release\n",
            "Genre\n",
            "Publisher\n",
            "NA_Sales\n",
            "EU_Sales\n",
            "JP_Sales\n",
            "Other_Sales\n",
            "Global_Sales\n",
            "Critic_Score\n",
            "Critic_Count\n",
            "User_Score\n",
            "User_Count\n",
            "Developer\n",
            "Rating\n",
            "\n",
            "Variable dependiente:\n",
            "Global_Sales\n",
            "\n",
            "Variables independientes:\n",
            "['Name', 'Platform', 'Year_of_Release', 'Genre', 'Publisher', 'NA_Sales', 'EU_Sales', 'JP_Sales', 'Other_Sales', 'Critic_Score', 'Critic_Count', 'User_Score', 'User_Count', 'Developer', 'Rating']\n"
          ]
        }
      ]
    },
    {
      "cell_type": "markdown",
      "source": [
        "<h3>3. Realice el proceso de limpieza de los datos, justificando cada una de las etapas utilizadas.<h3>\n"
      ],
      "metadata": {
        "id": "X-1ifVrDDLNb"
      }
    },
    {
      "cell_type": "markdown",
      "source": [
        "No hay datos nulos en mi conjunto de datos."
      ],
      "metadata": {
        "id": "ewNIFbCZSSZW"
      }
    },
    {
      "cell_type": "code",
      "source": [
        "df.isnull().sum()"
      ],
      "metadata": {
        "colab": {
          "base_uri": "https://localhost:8080/"
        },
        "id": "ZJDtAMAcuMG7",
        "outputId": "f9998c82-5a2f-4ed1-9f7e-723a1362e412"
      },
      "execution_count": 88,
      "outputs": [
        {
          "output_type": "execute_result",
          "data": {
            "text/plain": [
              "Name               0\n",
              "Platform           0\n",
              "Year_of_Release    0\n",
              "Genre              0\n",
              "Publisher          0\n",
              "NA_Sales           0\n",
              "EU_Sales           0\n",
              "JP_Sales           0\n",
              "Other_Sales        0\n",
              "Global_Sales       0\n",
              "Critic_Score       0\n",
              "Critic_Count       0\n",
              "User_Score         0\n",
              "User_Count         0\n",
              "Developer          0\n",
              "Rating             0\n",
              "dtype: int64"
            ]
          },
          "metadata": {},
          "execution_count": 88
        }
      ]
    },
    {
      "cell_type": "markdown",
      "source": [
        "<h3>4. Para el caso de datos nulos o no válidos, realice el análisis de cuál es el mejor procedimiento para realizar el tratamiento de esos datos y justifique cada uno de los procedimientos utilizados.<h3/>"
      ],
      "metadata": {
        "id": "ByhV-GZXFChQ"
      }
    },
    {
      "cell_type": "markdown",
      "source": [
        "No es necesario, ya que no tengo nulos."
      ],
      "metadata": {
        "id": "VLv2F3OSSZ4R"
      }
    },
    {
      "cell_type": "markdown",
      "source": [
        "<h3>5. Realice un análisis de correlación y determine cuales de las variables del conjunto de datos tiene correlación con la variable objetivo, justifique su respuesta.<h3/>"
      ],
      "metadata": {
        "id": "4qHRfLARTrtd"
      }
    },
    {
      "cell_type": "code",
      "source": [
        "import seaborn as sns\n",
        "import matplotlib.pyplot as plt\n",
        "\n",
        "correlation_matrix = df.corr()\n",
        "plt.figure(figsize=(12, 8))\n",
        "sns.heatmap(correlation_matrix, annot=True, cmap='coolwarm', linewidths=0.5)\n",
        "plt.title('Matriz de Correlación')\n",
        "plt.show()\n"
      ],
      "metadata": {
        "colab": {
          "base_uri": "https://localhost:8080/",
          "height": 851
        },
        "id": "uVpj-hyLUAWA",
        "outputId": "7859d2d1-fc3a-4389-91a3-a16432d3dbdc"
      },
      "execution_count": 89,
      "outputs": [
        {
          "output_type": "stream",
          "name": "stderr",
          "text": [
            "<ipython-input-89-dc916b82317a>:4: FutureWarning: The default value of numeric_only in DataFrame.corr is deprecated. In a future version, it will default to False. Select only valid columns or specify the value of numeric_only to silence this warning.\n",
            "  correlation_matrix = df.corr()\n"
          ]
        },
        {
          "output_type": "display_data",
          "data": {
            "text/plain": [
              "<Figure size 1200x800 with 2 Axes>"
            ],
            "image/png": "[encoded data removed]"
          },
          "metadata": {}
        }
      ]
    },
    {
      "cell_type": "code",
      "source": [
        "# Calcular la matriz de correlación entre todas las características y 'Global_Sales'\n",
        "correlation_matrix = df.corr()\n",
        "\n",
        "# Filtrar las filas de la matriz de correlación relacionadas con 'Global_Sales'\n",
        "correlation_with_class = correlation_matrix['Global_Sales']\n",
        "\n",
        "# Ordenar los valores de correlación en orden descendente\n",
        "correlation_sorted = correlation_with_class.abs().sort_values(ascending=False)\n",
        "\n",
        "# Mostrar las características con mayor correlación con 'Global_Sales'\n",
        "print(correlation_sorted)"
      ],
      "metadata": {
        "colab": {
          "base_uri": "https://localhost:8080/"
        },
        "id": "T95UjMcqUkbE",
        "outputId": "13434275-6e8a-46a9-cdd1-8a3160e5a5e9"
      },
      "execution_count": 90,
      "outputs": [
        {
          "output_type": "stream",
          "name": "stdout",
          "text": [
            "Global_Sales       1.000000\n",
            "NA_Sales           0.955793\n",
            "EU_Sales           0.939313\n",
            "Other_Sales        0.804028\n",
            "JP_Sales           0.613546\n",
            "Critic_Count       0.290397\n",
            "User_Count         0.264151\n",
            "Critic_Score       0.237556\n",
            "User_Score         0.088349\n",
            "Year_of_Release    0.006661\n",
            "Name: Global_Sales, dtype: float64\n"
          ]
        },
        {
          "output_type": "stream",
          "name": "stderr",
          "text": [
            "<ipython-input-90-f2dbce22d4ec>:2: FutureWarning: The default value of numeric_only in DataFrame.corr is deprecated. In a future version, it will default to False. Select only valid columns or specify the value of numeric_only to silence this warning.\n",
            "  correlation_matrix = df.corr()\n"
          ]
        }
      ]
    },
    {
      "cell_type": "markdown",
      "source": [
        "Se ve la correlacion de las variables, las cuales alcancen el 1(100%) o mas cerca de este tienen una buena correlacion para mi variable objetivo."
      ],
      "metadata": {
        "id": "ZouryI-WRoFD"
      }
    },
    {
      "cell_type": "markdown",
      "source": [
        "<h3>7. En caso de ser necesario transforme los atributos categóricos a numéricos. Explique la elección del método utilizado para su conjunto de datos. <h3/>"
      ],
      "metadata": {
        "id": "Wsg9orbReA9C"
      }
    },
    {
      "cell_type": "markdown",
      "source": [
        "Predicción de Ventas Globales: características proporcionadas, como el género, la plataforma, las puntuaciones de la crítica, las puntuaciones de los usuarios, el año de lanzamiento y la clasificación, para predecir las ventas globales de un videojuego. Esto podría ayudar a entender qué factores influyen más en las ventas globales de videojuegos."
      ],
      "metadata": {
        "id": "DJ_UQSnygcQZ"
      }
    },
    {
      "cell_type": "code",
      "source": [
        "df['Genre'].value_counts()"
      ],
      "metadata": {
        "colab": {
          "base_uri": "https://localhost:8080/"
        },
        "id": "Vr71z7pSf2q9",
        "outputId": "f9b36f92-96d3-4f25-a0cc-5dd1793380c6"
      },
      "execution_count": 91,
      "outputs": [
        {
          "output_type": "execute_result",
          "data": {
            "text/plain": [
              "Action          1630\n",
              "Sports           943\n",
              "Shooter          864\n",
              "Role-Playing     712\n",
              "Racing           581\n",
              "Platform         403\n",
              "Misc             384\n",
              "Fighting         378\n",
              "Simulation       297\n",
              "Strategy         267\n",
              "Adventure        248\n",
              "Puzzle           118\n",
              "Name: Genre, dtype: int64"
            ]
          },
          "metadata": {},
          "execution_count": 91
        }
      ]
    },
    {
      "cell_type": "code",
      "source": [
        "df['Platform'].value_counts()"
      ],
      "metadata": {
        "colab": {
          "base_uri": "https://localhost:8080/"
        },
        "id": "NuG3VZFEf_Pg",
        "outputId": "98418e90-f83e-4658-a46a-e84aa8e24fbb"
      },
      "execution_count": 92,
      "outputs": [
        {
          "output_type": "execute_result",
          "data": {
            "text/plain": [
              "PS2     1140\n",
              "X360     858\n",
              "PS3      769\n",
              "PC       651\n",
              "XB       565\n",
              "Wii      479\n",
              "DS       464\n",
              "PSP      390\n",
              "GC       348\n",
              "PS4      239\n",
              "GBA      237\n",
              "XOne     159\n",
              "3DS      155\n",
              "PS       150\n",
              "PSV      118\n",
              "WiiU      89\n",
              "DC        14\n",
              "Name: Platform, dtype: int64"
            ]
          },
          "metadata": {},
          "execution_count": 92
        }
      ]
    },
    {
      "cell_type": "code",
      "source": [
        "df['Rating'].value_counts()"
      ],
      "metadata": {
        "colab": {
          "base_uri": "https://localhost:8080/"
        },
        "id": "yvoalA89gBgn",
        "outputId": "daa0a977-a61a-4bf0-e3ba-c967b42f7013"
      },
      "execution_count": 93,
      "outputs": [
        {
          "output_type": "execute_result",
          "data": {
            "text/plain": [
              "T       2377\n",
              "E       2082\n",
              "M       1433\n",
              "E10+     930\n",
              "AO         1\n",
              "K-A        1\n",
              "RP         1\n",
              "Name: Rating, dtype: int64"
            ]
          },
          "metadata": {},
          "execution_count": 93
        }
      ]
    },
    {
      "cell_type": "code",
      "source": [
        "from sklearn.preprocessing import LabelEncoder\n",
        "\n",
        "# Crear un objeto LabelEncoder para cada columna categórica\n",
        "label_encoder_genre = LabelEncoder()\n",
        "label_encoder_platform = LabelEncoder()\n",
        "label_encoder_rating = LabelEncoder()\n",
        "\n",
        "# Aplicar Label Encoding a cada columna categórica y agregar las nuevas columnas al DataFrame\n",
        "df['Genre_encoded'] = label_encoder_genre.fit_transform(df['Genre'])\n",
        "df['Platform_encoded'] = label_encoder_platform.fit_transform(df['Platform'])\n",
        "df['Rating_encoded'] = label_encoder_rating.fit_transform(df['Rating'])\n"
      ],
      "metadata": {
        "id": "gZUDwov2kCGB"
      },
      "execution_count": 94,
      "outputs": []
    },
    {
      "cell_type": "code",
      "source": [
        "# Calcular la matriz de correlación entre todas las características y 'Global_Sales'\n",
        "correlation_matrix = df.corr()\n",
        "\n",
        "# Filtrar las filas de la matriz de correlación relacionadas con 'Global_Sales'\n",
        "correlation_with_class = correlation_matrix['Global_Sales']\n",
        "\n",
        "# Ordenar los valores de correlación en orden descendente\n",
        "correlation_sorted = correlation_with_class.abs().sort_values(ascending=False)\n",
        "\n",
        "# Mostrar las características con mayor correlación con 'Global_Sales'\n",
        "print(correlation_sorted)"
      ],
      "metadata": {
        "colab": {
          "base_uri": "https://localhost:8080/"
        },
        "id": "NEVfDfW6a1P_",
        "outputId": "bfaeb144-b66a-4f63-a6af-accf9c9c45fd"
      },
      "execution_count": 95,
      "outputs": [
        {
          "output_type": "stream",
          "name": "stdout",
          "text": [
            "Global_Sales        1.000000\n",
            "NA_Sales            0.955793\n",
            "EU_Sales            0.939313\n",
            "Other_Sales         0.804028\n",
            "JP_Sales            0.613546\n",
            "Critic_Count        0.290397\n",
            "User_Count          0.264151\n",
            "Critic_Score        0.237556\n",
            "User_Score          0.088349\n",
            "Rating_encoded      0.056819\n",
            "Platform_encoded    0.029000\n",
            "Genre_encoded       0.010139\n",
            "Year_of_Release     0.006661\n",
            "Name: Global_Sales, dtype: float64\n"
          ]
        },
        {
          "output_type": "stream",
          "name": "stderr",
          "text": [
            "<ipython-input-95-f2dbce22d4ec>:2: FutureWarning: The default value of numeric_only in DataFrame.corr is deprecated. In a future version, it will default to False. Select only valid columns or specify the value of numeric_only to silence this warning.\n",
            "  correlation_matrix = df.corr()\n"
          ]
        }
      ]
    },
    {
      "cell_type": "markdown",
      "source": [
        "<h3>6. Divida el conjunto de datos así, 80% entrenamiento y 20% pruebas.<h3/>"
      ],
      "metadata": {
        "id": "3cguxmwY-cr5"
      }
    },
    {
      "cell_type": "code",
      "source": [
        "from sklearn.model_selection import train_test_split\n",
        "\n",
        "# Supongamos que 'df' es tu DataFrame y 'Global_Sales' es tu variable objetivo\n",
        "X = df[['Genre_encoded', 'Platform_encoded', 'Rating_encoded', 'Critic_Score', 'User_Score', 'Year_of_Release']]  # Características independientes\n",
        "y = df['Global_Sales']  # Variable objetivo\n",
        "\n",
        "# Dividir el conjunto de datos en entrenamiento y pruebas (80% - 20%)\n",
        "X_train, X_test, y_train, y_test = train_test_split(X, y, test_size=0.2, random_state=42)\n",
        "\n",
        "# 'X_train' y 'y_train' son los datos de entrenamiento (características y etiquetas)\n",
        "# 'X_test' y 'y_test' son los datos de prueba (características y etiquetas)\n",
        "print('Dimensiones del conjunto de entrenamiento:', X_train.shape, y_train.shape)\n",
        "print('Dimensiones del conjunto de pruebas:', X_test.shape, y_test.shape)"
      ],
      "metadata": {
        "colab": {
          "base_uri": "https://localhost:8080/"
        },
        "id": "pwpFAoFd-eBQ",
        "outputId": "104f44c4-655b-46fa-e217-ce8ce3bf7761"
      },
      "execution_count": 96,
      "outputs": [
        {
          "output_type": "stream",
          "name": "stdout",
          "text": [
            "Dimensiones del conjunto de entrenamiento: (5460, 6) (5460,)\n",
            "Dimensiones del conjunto de pruebas: (1365, 6) (1365,)\n"
          ]
        }
      ]
    },
    {
      "cell_type": "markdown",
      "source": [
        "<h3>8. Para el conjunto de datos de entrenamiento realice el escalado del conjunto (normalización o estandarización) realice la justificación del método seleccionado para su conjunto de datos. <h3/>"
      ],
      "metadata": {
        "id": "Fam5dKaYxGhe"
      }
    },
    {
      "cell_type": "code",
      "source": [
        "from sklearn.preprocessing import StandardScaler\n",
        "\n",
        "# Inicializa el escalador\n",
        "scaler = StandardScaler()\n",
        "\n",
        "# Ajusta el escalador a los datos de entrenamiento y transforma los datos de entrenamiento\n",
        "X_train_scaled = scaler.fit_transform(X_train)\n",
        "\n",
        "# Transforma los datos de prueba utilizando el mismo escalador\n",
        "X_test_scaled = scaler.transform(X_test)\n",
        "\n",
        "# Ahora, X_train_scaled y X_test_scaled contienen tus características escaladas\n",
        "print('Dimensiones del conjunto de entrenamiento escalado:', X_train_scaled.shape)\n",
        "print('Dimensiones del conjunto de pruebas escalado:', X_test_scaled.shape)\n"
      ],
      "metadata": {
        "colab": {
          "base_uri": "https://localhost:8080/"
        },
        "id": "K_vUUeFsxPrE",
        "outputId": "0c5d77ac-38d0-4bc8-947b-39a0c2a4a349"
      },
      "execution_count": 97,
      "outputs": [
        {
          "output_type": "stream",
          "name": "stdout",
          "text": [
            "Dimensiones del conjunto de entrenamiento escalado: (5460, 6)\n",
            "Dimensiones del conjunto de pruebas escalado: (1365, 6)\n"
          ]
        }
      ]
    },
    {
      "cell_type": "markdown",
      "source": [
        "<h3>9. Realice la implementación de la RBNN en su conjunto de datos, Defina la taza de aprendizaje y el error en 0.01 y 1e-7 respectivamente, justifique la técnica utilizada para definir el número de centroides <h3/>"
      ],
      "metadata": {
        "id": "-Zk-G_neFsud"
      }
    },
    {
      "cell_type": "code",
      "source": [
        "from sklearn.cluster import KMeans  # Asegúrate de importar KMeans\n",
        "\n",
        "# Supongamos que deseas probar un rango de números de centroides\n",
        "num_centroids = range(2, 7)  # Prueba desde 2 hasta 20 centroides\n",
        "\n",
        "# Inicializa una lista para almacenar los resultados de MSE\n",
        "mse_results = []\n",
        "\n",
        "for n in num_centroids:\n",
        "    # Aplica K-Means con n centroides\n",
        "    kmeans = KMeans(n_clusters=n, random_state=42)\n",
        "    kmeans.fit(X_train_scaled)\n",
        "\n",
        "    # Obtiene las etiquetas de clúster para los datos de entrenamiento\n",
        "    labels = kmeans.labels_\n",
        "\n",
        "    # Calcula las distancias desde cada punto de datos al centroide más cercano\n",
        "    distances = kmeans.transform(X_train_scaled)\n",
        "\n",
        "    # Calcula el MSE como la suma de las distancias al cuadrado\n",
        "    mse = (distances.min(axis=1) ** 2).mean()\n",
        "    mse_results.append(mse)\n",
        "\n",
        "# Encuentra el número óptimo de centroides basado en el punto de inflexión en la curva de MSE\n",
        "optimal_num_centroids = num_centroids[mse_results.index(min(mse_results))]\n",
        "print(\"Número óptimo de centroides:\", optimal_num_centroids)\n"
      ],
      "metadata": {
        "colab": {
          "base_uri": "https://localhost:8080/"
        },
        "id": "Pue5OPfXZ1_4",
        "outputId": "74bfeaa0-617b-461d-ab18-4e426de038cc"
      },
      "execution_count": 98,
      "outputs": [
        {
          "output_type": "stream",
          "name": "stderr",
          "text": [
            "/usr/local/lib/python3.10/dist-packages/sklearn/cluster/_kmeans.py:870: FutureWarning: The default value of `n_init` will change from 10 to 'auto' in 1.4. Set the value of `n_init` explicitly to suppress the warning\n",
            "  warnings.warn(\n",
            "/usr/local/lib/python3.10/dist-packages/sklearn/cluster/_kmeans.py:870: FutureWarning: The default value of `n_init` will change from 10 to 'auto' in 1.4. Set the value of `n_init` explicitly to suppress the warning\n",
            "  warnings.warn(\n",
            "/usr/local/lib/python3.10/dist-packages/sklearn/cluster/_kmeans.py:870: FutureWarning: The default value of `n_init` will change from 10 to 'auto' in 1.4. Set the value of `n_init` explicitly to suppress the warning\n",
            "  warnings.warn(\n",
            "/usr/local/lib/python3.10/dist-packages/sklearn/cluster/_kmeans.py:870: FutureWarning: The default value of `n_init` will change from 10 to 'auto' in 1.4. Set the value of `n_init` explicitly to suppress the warning\n",
            "  warnings.warn(\n",
            "/usr/local/lib/python3.10/dist-packages/sklearn/cluster/_kmeans.py:870: FutureWarning: The default value of `n_init` will change from 10 to 'auto' in 1.4. Set the value of `n_init` explicitly to suppress the warning\n",
            "  warnings.warn(\n"
          ]
        },
        {
          "output_type": "stream",
          "name": "stdout",
          "text": [
            "Número óptimo de centroides: 6\n"
          ]
        }
      ]
    },
    {
      "cell_type": "code",
      "source": [
        "from sklearn.neural_network import MLPRegressor\n",
        "from sklearn.metrics import mean_squared_error\n",
        "from sklearn.preprocessing import StandardScaler\n",
        "from sklearn.model_selection import train_test_split\n",
        "\n",
        "# Lista de funciones de activación a probar\n",
        "activation_functions = ['identity', 'logistic', 'tanh', 'relu']  # Agrega las que desees probar\n",
        "\n",
        "for activation in activation_functions:\n",
        "    # Inicializa la RBNN con la función de activación actual\n",
        "    rbnn = MLPRegressor(hidden_layer_sizes=(6,), activation=activation, learning_rate_init=0.01, max_iter=1000, tol=1e-7, random_state=42)\n",
        "\n",
        "    # Entrena la RBNN\n",
        "    rbnn.fit(X_train_scaled, y_train)\n",
        "\n",
        "    # Realiza predicciones en el conjunto de prueba\n",
        "    y_pred = rbnn.predict(X_test_scaled)\n",
        "\n",
        "    # Calcula el Error Cuadrático Medio (MSE)\n",
        "    mse = mean_squared_error(y_test, y_pred)\n",
        "    print(f'Función de Activación: {activation}')\n",
        "    print(f'MSE en el conjunto de prueba: {mse}\\n')\n"
      ],
      "metadata": {
        "colab": {
          "base_uri": "https://localhost:8080/"
        },
        "id": "wP2tgu_5ZMCo",
        "outputId": "dd959a4a-3cee-4d32-8e29-b23a4c77d5b2"
      },
      "execution_count": 99,
      "outputs": [
        {
          "output_type": "stream",
          "name": "stdout",
          "text": [
            "Función de Activación: identity\n",
            "MSE en el conjunto de prueba: 2.4130332662591987\n",
            "\n",
            "Función de Activación: logistic\n",
            "MSE en el conjunto de prueba: 1.862883360291357\n",
            "\n",
            "Función de Activación: tanh\n",
            "MSE en el conjunto de prueba: 2.0531250604909133\n",
            "\n",
            "Función de Activación: relu\n",
            "MSE en el conjunto de prueba: 2.0588242536308434\n",
            "\n"
          ]
        }
      ]
    },
    {
      "cell_type": "markdown",
      "source": [
        "la función de activación \"logistic\" (función logística) obtuvo el MSE más bajo en el conjunto de pruebas, lo que indica un mejor ajuste del modelo a los datos en comparación con otras funciones de activación."
      ],
      "metadata": {
        "id": "2XY2H7VnN2ha"
      }
    },
    {
      "cell_type": "code",
      "source": [
        "import matplotlib.pyplot as plt\n",
        "\n",
        "centroids = kmeans.cluster_centers_  # Obtiene los centroides\n",
        "\n",
        "# 'X_train_scaled' conjunto de entrenamiento escalado\n",
        "plt.scatter(X_train_scaled[:, 0], X_train_scaled[:, 1], c=kmeans.labels_, cmap='rainbow')\n",
        "plt.scatter(centroids[:, 0], centroids[:, 1], marker='x', s=200, linewidths=3, color='black', label='Centroids')\n",
        "plt.title('Dispersión de Centroides en RBNN')\n",
        "plt.legend()\n",
        "plt.show()\n"
      ],
      "metadata": {
        "colab": {
          "base_uri": "https://localhost:8080/",
          "height": 453
        },
        "id": "FlKXJ5cvaCPT",
        "outputId": "a2f965c6-d4f4-497b-bf20-46e3ed38548b"
      },
      "execution_count": 100,
      "outputs": [
        {
          "output_type": "display_data",
          "data": {
            "text/plain": [
              "<Figure size 640x480 with 1 Axes>"
            ],
            "image/png": "[encoded data removed]"
          },
          "metadata": {}
        }
      ]
    },
    {
      "cell_type": "markdown",
      "source": [
        "<h3>10. Valide utilizando el método de validación cruzada por lo menos 3 topologías de la red e imprima los resultados para cada topología y justifique la elección de la topología implementada. <h3/>"
      ],
      "metadata": {
        "id": "4Wvph1K6W8zo"
      }
    },
    {
      "cell_type": "code",
      "source": [
        "from sklearn.neural_network import MLPRegressor\n",
        "from sklearn.model_selection import cross_val_score\n",
        "import numpy as np\n",
        "\n",
        "# 'X_scaled' y 'y' datos de entrenamiento escalados\n",
        "X_scaled = X_train_scaled\n",
        "y = y_train\n",
        "\n",
        "# Lista de topologías de la red a probar\n",
        "topologies = [(2,), (6,), (12,)]  # Se puede ajustar las capas y neuronas según la elección\n",
        "\n",
        "for topology in topologies:\n",
        "    # Inicializa la RBNN con la topología actual\n",
        "    rbnn = MLPRegressor(hidden_layer_sizes=topology, activation='logistic', learning_rate_init=0.01, max_iter=1000, tol=1e-7, random_state=42)\n",
        "\n",
        "    # Realiza la validación cruzada (por ejemplo, usando 5 divisiones)\n",
        "    scores = cross_val_score(rbnn, X_scaled, y, cv=5, scoring='neg_mean_squared_error')\n",
        "\n",
        "    # Calcula el MSE promedio y su desviación estándar para esta topología\n",
        "    mse_mean = -np.mean(scores)\n",
        "    mse_std = np.std(scores)\n",
        "\n",
        "    # Imprime los resultados\n",
        "    print(f'Topología de la Red: {topology}')\n",
        "    print(f'MSE promedio: {mse_mean}')\n",
        "    print(f'Desviación Estándar del MSE: {mse_std}\\n')\n"
      ],
      "metadata": {
        "colab": {
          "base_uri": "https://localhost:8080/"
        },
        "id": "QT1bvnLqXBSf",
        "outputId": "a232bc54-c260-4bcc-fe92-4aedd799a763"
      },
      "execution_count": 101,
      "outputs": [
        {
          "output_type": "stream",
          "name": "stdout",
          "text": [
            "Topología de la Red: (2,)\n",
            "MSE promedio: 3.7660721916757147\n",
            "Desviación Estándar del MSE: 2.2991104454335765\n",
            "\n",
            "Topología de la Red: (6,)\n",
            "MSE promedio: 3.661723384099834\n",
            "Desviación Estándar del MSE: 2.241708233611697\n",
            "\n",
            "Topología de la Red: (12,)\n",
            "MSE promedio: 3.673338640951396\n",
            "Desviación Estándar del MSE: 2.248586087283954\n",
            "\n"
          ]
        }
      ]
    },
    {
      "cell_type": "markdown",
      "source": [
        "En general, basándonos en los resultados de la validación cruzada, la topología (6,) parece ser una elección razonable. Proporciona un equilibrio entre la capacidad de modelado y la complejidad"
      ],
      "metadata": {
        "id": "xZvUIyqtNYZj"
      }
    },
    {
      "cell_type": "markdown",
      "source": [
        "<h3>11. Realice la validación con su conjunto de datos de pruebas, imprima la matriz de confusión si su ejercicio es de clasificación y explique los resultados. Si su ejercicio es de aproximación de funciones imprima el error cuadrático medio de las predicciones y explique su respuesta. <h3/>"
      ],
      "metadata": {
        "id": "gAfyLAsglI6R"
      }
    },
    {
      "cell_type": "code",
      "source": [
        "from sklearn.neural_network import MLPRegressor\n",
        "from sklearn.preprocessing import StandardScaler\n",
        "from sklearn.metrics import mean_squared_error\n",
        "\n",
        "# Inicializa el escalador\n",
        "scaler = StandardScaler()\n",
        "\n",
        "# Ajusta el escalador a los datos de entrenamiento y transforma los datos de entrenamiento\n",
        "X_train_scaled = scaler.fit_transform(X_train)\n",
        "\n",
        "# Transforma los datos de prueba utilizando el mismo escalador\n",
        "X_test_scaled = scaler.transform(X_test)\n",
        "\n",
        "# Inicializa y ajusta (entrena) tu modelo RBNN\n",
        "rbnn = MLPRegressor(hidden_layer_sizes=(6,), activation='logistic', learning_rate_init=0.01, max_iter=1000, tol=1e-7, random_state=42)\n",
        "rbnn.fit(X_train_scaled, y_train)\n",
        "\n",
        "# Realiza predicciones en el conjunto de pruebas\n",
        "y_pred = rbnn.predict(X_test_scaled)\n",
        "\n",
        "# Calcula el error cuadrático medio (MSE) en el conjunto de pruebas\n",
        "mse = mean_squared_error(y_test, y_pred)\n",
        "\n",
        "# Imprime el MSE\n",
        "print(f'Error Cuadrático Medio en el conjunto de pruebas: {mse}')\n",
        "\n"
      ],
      "metadata": {
        "colab": {
          "base_uri": "https://localhost:8080/"
        },
        "id": "NYTOMTkGK-g9",
        "outputId": "095b3261-c3bd-429d-85df-27737f37d468"
      },
      "execution_count": 102,
      "outputs": [
        {
          "output_type": "stream",
          "name": "stdout",
          "text": [
            "Error Cuadrático Medio en el conjunto de pruebas: 1.862883360291357\n"
          ]
        }
      ]
    },
    {
      "cell_type": "markdown",
      "source": [
        "Están a aproximadamente 1.8629 unidades cuadradas de distancia de los valores reales de ventas globales de videojuegos en el conjunto de pruebas. Cuanto menor sea el MSE, mejor será el ajuste del modelo a los datos."
      ],
      "metadata": {
        "id": "bkfzqVNYMIX2"
      }
    }
  ]
}